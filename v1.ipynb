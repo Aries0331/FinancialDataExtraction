{
 "cells": [
  {
   "cell_type": "code",
   "execution_count": null,
   "metadata": {},
   "outputs": [],
   "source": [
    "import PyPDF2 \n",
    "import json"
   ]
  },
  {
   "cell_type": "code",
   "execution_count": null,
   "metadata": {},
   "outputs": [],
   "source": [
    "pdfFileObj = open('docs/Arsenal Capital Group - Wenger Partners  - Account Statement - 03_31_13.pdf', 'rb')"
   ]
  },
  {
   "cell_type": "code",
   "execution_count": null,
   "metadata": {},
   "outputs": [],
   "source": [
    "pdfReader = PyPDF2.PdfFileReader(pdfFileObj)"
   ]
  },
  {
   "cell_type": "code",
   "execution_count": null,
   "metadata": {},
   "outputs": [],
   "source": [
    "pdfReader.numPages"
   ]
  },
  {
   "cell_type": "code",
   "execution_count": null,
   "metadata": {},
   "outputs": [],
   "source": [
    "pageObj = pdfReader.getPage(0)"
   ]
  },
  {
   "cell_type": "code",
   "execution_count": null,
   "metadata": {},
   "outputs": [],
   "source": [
    "contents = pageObj.extractText().strip()"
   ]
  },
  {
   "cell_type": "code",
   "execution_count": null,
   "metadata": {},
   "outputs": [],
   "source": [
    "contents"
   ]
  },
  {
   "cell_type": "code",
   "execution_count": null,
   "metadata": {},
   "outputs": [],
   "source": [
    "# contents.split('\\n ')"
   ]
  },
  {
   "cell_type": "code",
   "execution_count": null,
   "metadata": {},
   "outputs": [],
   "source": [
    "# dataset = {}\n",
    "import re\n",
    "month_ending_date = re.findall('\\d+/\\d+/\\d{4}', ' Account Statement for the M\\nonth Ended \\n3/31/2013')"
   ]
  },
  {
   "cell_type": "code",
   "execution_count": null,
   "metadata": {},
   "outputs": [],
   "source": [
    "import pdftotext"
   ]
  },
  {
   "cell_type": "code",
   "execution_count": 6,
   "metadata": {},
   "outputs": [],
   "source": [
    "with open(\"docs/Arsenal Capital Group - Wenger Partners  - Account Statement - 03_31_13.pdf\", \"rb\") as f:\n",
    "    test = pdftotext.PDF(f)"
   ]
  },
  {
   "cell_type": "code",
   "execution_count": 7,
   "metadata": {},
   "outputs": [
    {
     "name": "stdout",
     "output_type": "stream",
     "text": [
      "                                           Arsenal Capital Group\n",
      "                                 To: Wenger Partners\n",
      "                                 4 Hornsey Rd\n",
      "                                 London, UK\n",
      "                                 Re: Arsenal Capital Group, LLC\n",
      "                                                          Account Statement for the Month Ended 3/31/2013\n",
      "                                                                                Summary\n",
      "                                                                           (All Values in USD)\n",
      "                                                   Total Commitment: $2,200,000\n",
      "                                                     Beginning Quarter Balance:         $1,564,958.79\n",
      "                                                     Capital Contribution:              $160,600.00\n",
      "                                                     Distribution:                      ($8,505.42)\n",
      "                                                     Fees:                              ($765.49)\n",
      "                                                     End Balance:                       $1,716,287.88\n",
      "                                 These amounts are estimates and are solely for the personal benefit of the investor. Transfer\n",
      "                                 amounts in and out of accounts as well as final balances will be finalized at the end of the year.\n",
      "                                 Please contact Patrick Vieira, President of Finance, with any questions.\n",
      "Powered by TCPDF (www.tcpdf.org)\n",
      "\n"
     ]
    }
   ],
   "source": [
    "for page in test:\n",
    "    print(page)"
   ]
  },
  {
   "cell_type": "code",
   "execution_count": 8,
   "metadata": {},
   "outputs": [
    {
     "data": {
      "text/plain": [
       "['Arsenal Capital Group',\n",
       " 'To: Wenger Partners',\n",
       " '4 Hornsey Rd',\n",
       " 'London, UK',\n",
       " 'Re: Arsenal Capital Group, LLC',\n",
       " 'Account Statement for the Month Ended 3/31/2013',\n",
       " 'Summary',\n",
       " '(All Values in USD)',\n",
       " 'Total Commitment: $2,200,000',\n",
       " 'Beginning Quarter Balance:         $1,564,958.79',\n",
       " 'Capital Contribution:              $160,600.00',\n",
       " 'Distribution:                      ($8,505.42)',\n",
       " 'Fees:                              ($765.49)',\n",
       " 'End Balance:                       $1,716,287.88',\n",
       " 'These amounts are estimates and are solely for the personal benefit of the investor. Transfer',\n",
       " 'amounts in and out of accounts as well as final balances will be finalized at the end of the year.',\n",
       " 'Please contact Patrick Vieira, President of Finance, with any questions.',\n",
       " 'Powered by TCPDF (www.tcpdf.org)',\n",
       " '']"
      ]
     },
     "execution_count": 8,
     "metadata": {},
     "output_type": "execute_result"
    }
   ],
   "source": [
    "mes = [line.strip() for line in test[0].split('\\n')]\n",
    "mes"
   ]
  },
  {
   "cell_type": "code",
   "execution_count": 9,
   "metadata": {},
   "outputs": [],
   "source": [
    "import os"
   ]
  },
  {
   "cell_type": "code",
   "execution_count": 10,
   "metadata": {},
   "outputs": [
    {
     "name": "stdout",
     "output_type": "stream",
     "text": [
      "Newcastle Ventures, LLC - Walker Holdings Group - Account Statement - 2016-03-31.pdf\n",
      "Newcastle Ventures, LLC - Henderson Holding Group - Account Statement - 2015-09-30.pdf\n",
      "Arsenal Capital Group - Wenger Partners  - Account Statement - 2011-09-30.pdf\n",
      "Newcastle Ventures, LLC - Henderson Holding Group - Account Statement - 2016-12-31.pdf\n",
      "Arsenal Capital Group - Wenger Partners  - Account Statement - 2012-12-31.pdf\n",
      "Arsenal Capital Group - Wenger Partners  - Account Statement - 2013-03-31 (1).pdf\n",
      "Newcastle Ventures, LLC - Henderson Holding Group - Account Statement - 2017-06-30.pdf\n",
      "Newcastle Ventures, LLC - Walker Holdings Group - Account Statement - 2015-06-30.pdf\n",
      "Newcastle Ventures, LLC - Henderson Holding Group - Account Statement - 2015-03-31.pdf\n",
      "Arsenal Capital Group - Wenger Partners  - Account Statement - 2011-03-31.pdf\n",
      "Newcastle Ventures, LLC - Walker Holdings Group - Account Statement - 2017-03-31.pdf\n",
      "Chelsea Partners - Courtois Investment Group - Account Statement - 2013-03-31.pdf\n",
      "Newcastle Ventures, LLC - Walker Holdings Group - Account Statement - 2016-09-30.pdf\n",
      "Arsenal Capital Group - Wenger Partners  - Account Statement - 2010-09-30.pdf\n",
      "Newcastle Ventures, LLC - Henderson Holding Group - Account Statement - 2018-03-31.pdf\n",
      "Newcastle Ventures, LLC - Henderson Holding Group - Account Statement - 2017-12-31.pdf\n",
      "Newcastle Ventures, LLC - Walker Holdings Group - Account Statement - 2015-12-31.pdf\n",
      "Newcastle Ventures, LLC - Henderson Holding Group - Account Statement - 2016-06-30.pdf\n",
      "Arsenal Capital Group - Wenger Partners  - Account Statement - 2012-06-30.pdf\n",
      "Everton Income Fund, L.P. - Walker Holdings Group - Account Statement - 2012-09-30.pdf\n",
      "Arsenal Capital Group - Wenger Partners  - Account Statement - 2012-03-31.pdf\n",
      "Newcastle Ventures, LLC - Henderson Holding Group - Account Statement - 2016-03-31.pdf\n",
      "Newcastle Ventures, LLC - Walker Holdings Group - Account Statement - 2015-09-30.pdf\n",
      "Newcastle Ventures, LLC - Henderson Holding Group - Account Statement - 2017-09-30.pdf\n",
      "Arsenal Capital Group - Wenger Partners  - Account Statement - 2010-12-31.pdf\n",
      "Newcastle Ventures, LLC - Walker Holdings Group - Account Statement - 2016-12-31.pdf\n",
      "Arsenal Capital Group - Wenger Partners  - Account Statement - 2011-06-30.pdf\n",
      "Newcastle Ventures, LLC - Henderson Holding Group - Account Statement - 2015-06-30.pdf\n",
      "Newcastle Ventures, LLC - Walker Holdings Group - Account Statement - 2017-06-30.pdf\n",
      "Chelsea Partners - Henderson Holding Group - Account Statement - 2013-09-30.pdf\n",
      "Arsenal Capital Group - Wenger Partners  - Account Statement - 2013-03-31.pdf\n",
      "Newcastle Ventures, LLC - Henderson Holding Group - Account Statement - 2017-03-31.pdf\n",
      "Newcastle Ventures, LLC - Walker Holdings Group - Account Statement - 2015-03-31.pdf\n",
      "Arsenal Capital Group - Wenger Partners  - Account Statement - 2012-09-30.pdf\n",
      "Newcastle Ventures, LLC - Henderson Holding Group - Account Statement - 2016-09-30.pdf\n",
      "Newcastle Ventures, LLC - Walker Holdings Group - Account Statement - 2018-03-31.pdf\n",
      "Arsenal Capital Group - Wenger Partners  - Account Statement - 2011-12-31.pdf\n",
      "Newcastle Ventures, LLC - Henderson Holding Group - Account Statement - 2015-12-31.pdf\n",
      "Newcastle Ventures, LLC - Walker Holdings Group - Account Statement - 2017-12-31.pdf\n",
      "Chelsea Partners - Courtois Investment Group - Account Statement - 03_31_13.pdf\n",
      "Arsenal Capital Group - Wenger Partners  - Account Statement - 03_31_13.pdf\n",
      "Arsenal Capital Group - Wenger Partners  - Account Statement - 2010-06-30.pdf\n",
      "Newcastle Ventures, LLC - Walker Holdings Group - Account Statement - 2016-06-30.pdf\n"
     ]
    }
   ],
   "source": [
    "import glob\n",
    "for filename in glob.glob('docs/*.pdf'):\n",
    "    print(filename.split('/')[1])"
   ]
  },
  {
   "cell_type": "code",
   "execution_count": 11,
   "metadata": {},
   "outputs": [],
   "source": [
    "f = open('text_files/1.txt', 'w')\n",
    "f.write('test')\n",
    "f.close()"
   ]
  },
  {
   "cell_type": "code",
   "execution_count": 12,
   "metadata": {},
   "outputs": [],
   "source": [
    "import pdftotext\n",
    "for file in glob.glob('docs/*.pdf'):\n",
    "    content = []\n",
    "    with open(file, 'rb') as f:\n",
    "        pdf = pdftotext.PDF(f)\n",
    "#         print (pdf)\n",
    "        for page in pdf:\n",
    "            content += [line.strip() for line in pdf[0].split('\\n')]\n",
    "#             print(content)\n",
    "    filename = file.split('/')[1].split('.')[0] + '.txt'\n",
    "#     print('\\n'.join(content))\n",
    "    f = open('text_files/'+filename, 'w')\n",
    "    f.write('\\n'.join(content))\n",
    "    f.close()"
   ]
  },
  {
   "cell_type": "code",
   "execution_count": null,
   "metadata": {},
   "outputs": [],
   "source": []
  }
 ],
 "metadata": {
  "kernelspec": {
   "display_name": "Python 3",
   "language": "python",
   "name": "python3"
  },
  "language_info": {
   "codemirror_mode": {
    "name": "ipython",
    "version": 3
   },
   "file_extension": ".py",
   "mimetype": "text/x-python",
   "name": "python",
   "nbconvert_exporter": "python",
   "pygments_lexer": "ipython3",
   "version": "3.7.0"
  }
 },
 "nbformat": 4,
 "nbformat_minor": 2
}
