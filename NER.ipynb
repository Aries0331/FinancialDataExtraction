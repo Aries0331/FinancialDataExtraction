{
 "cells": [
  {
   "cell_type": "code",
   "execution_count": 1,
   "metadata": {},
   "outputs": [],
   "source": [
    "import nltk\n",
    "from nltk.tag.stanford import StanfordNERTagger"
   ]
  },
  {
   "cell_type": "code",
   "execution_count": 7,
   "metadata": {},
   "outputs": [],
   "source": [
    "sentence = \"\"\"          Arsenal Capital Group\n",
    "To: Wenger Partners\n",
    "4 Hornsey Rd\n",
    "London, UK\n",
    "Re: Arsenal Capital Group, LLC\n",
    "                         Account Statement for the Month Ended 6/30/2010\n",
    "                                               Summary\n",
    "                                          (All Values in USD)\n",
    "                  Total Commitment: $2,200,000\n",
    "                    Beginning Quarter Balance:         $0.00\n",
    "                    Capital Contribution:              $176,000.00\n",
    "                    Distribution:                      -\n",
    "                    Fees:                              -\n",
    "                    End Balance:                       $176,000.00\n",
    "These amounts are estimates and are solely for the personal benefit of the investor.Transfer\n",
    "amounts in and out of accounts as well as final balances will be finalized at the end of the year.Please contact Patrick Vieira, President of Finance, with any questions.\"\"\""
   ]
  },
  {
   "cell_type": "code",
   "execution_count": 8,
   "metadata": {},
   "outputs": [],
   "source": [
    "jar = 'stanford-ner-2018-10-16/stanford-ner.jar'\n",
    "model = 'stanford-ner-2018-10-16/classifiers/english.all.3class.distsim.crf.ser.gz'"
   ]
  },
  {
   "cell_type": "code",
   "execution_count": 9,
   "metadata": {},
   "outputs": [],
   "source": [
    "# Prepare NER tagger with english model\n",
    "ner_tagger = StanfordNERTagger(model, jar, encoding='utf8')"
   ]
  },
  {
   "cell_type": "code",
   "execution_count": 10,
   "metadata": {},
   "outputs": [],
   "source": [
    "# Tokenize: Split sentence into words\n",
    "words = nltk.word_tokenize(sentence)"
   ]
  },
  {
   "cell_type": "code",
   "execution_count": 11,
   "metadata": {},
   "outputs": [
    {
     "name": "stdout",
     "output_type": "stream",
     "text": [
      "[('Arsenal', 'ORGANIZATION'), ('Capital', 'ORGANIZATION'), ('Group', 'ORGANIZATION'), ('To', 'O'), (':', 'O'), ('Wenger', 'ORGANIZATION'), ('Partners', 'ORGANIZATION'), ('4', 'O'), ('Hornsey', 'LOCATION'), ('Rd', 'LOCATION'), ('London', 'LOCATION'), (',', 'O'), ('UK', 'LOCATION'), ('Re', 'O'), (':', 'O'), ('Arsenal', 'ORGANIZATION'), ('Capital', 'ORGANIZATION'), ('Group', 'ORGANIZATION'), (',', 'O'), ('LLC', 'O'), ('Account', 'O'), ('Statement', 'O'), ('for', 'O'), ('the', 'O'), ('Month', 'O'), ('Ended', 'O'), ('6302010', 'O'), ('Summary', 'O'), ('(', 'O'), ('All', 'O'), ('Values', 'O'), ('in', 'O'), ('USD', 'O'), (')', 'O'), ('Total', 'O'), ('Commitment', 'O'), (':', 'O'), ('$', 'O'), ('2,200,000', 'O'), ('Beginning', 'O'), ('Quarter', 'O'), ('Balance', 'O'), (':', 'O'), ('$', 'O'), ('0.00', 'O'), ('Capital', 'O'), ('Contribution', 'O'), (':', 'O'), ('$', 'O'), ('176,000.00', 'O'), ('Distribution', 'O'), (':', 'O'), ('-', 'O'), ('Fees', 'O'), (':', 'O'), ('-', 'O'), ('End', 'O'), ('Balance', 'O'), (':', 'O'), ('$', 'O'), ('176,000.00', 'O'), ('These', 'O'), ('amounts', 'O'), ('are', 'O'), ('estimates', 'O'), ('and', 'O'), ('are', 'O'), ('solely', 'O'), ('for', 'O'), ('the', 'O'), ('personal', 'O'), ('benefit', 'O'), ('of', 'O'), ('the', 'O'), ('investor.Transfer', 'O'), ('amounts', 'O'), ('in', 'O'), ('and', 'O'), ('out', 'O'), ('of', 'O'), ('accounts', 'O'), ('as', 'O'), ('well', 'O'), ('as', 'O'), ('final', 'O'), ('balances', 'O'), ('will', 'O'), ('be', 'O'), ('finalized', 'O'), ('at', 'O'), ('the', 'O'), ('end', 'O'), ('of', 'O'), ('the', 'O'), ('year.Please', 'O'), ('contact', 'O'), ('Patrick', 'PERSON'), ('Vieira', 'PERSON'), (',', 'O'), ('President', 'O'), ('of', 'O'), ('Finance', 'ORGANIZATION'), (',', 'O'), ('with', 'O'), ('any', 'O'), ('questions', 'O'), ('.', 'O')]\n"
     ]
    }
   ],
   "source": [
    "# Run NER tagger on words\n",
    "print(ner_tagger.tag(words))"
   ]
  },
  {
   "cell_type": "code",
   "execution_count": null,
   "metadata": {},
   "outputs": [],
   "source": []
  }
 ],
 "metadata": {
  "kernelspec": {
   "display_name": "Python 3",
   "language": "python",
   "name": "python3"
  },
  "language_info": {
   "codemirror_mode": {
    "name": "ipython",
    "version": 3
   },
   "file_extension": ".py",
   "mimetype": "text/x-python",
   "name": "python",
   "nbconvert_exporter": "python",
   "pygments_lexer": "ipython3",
   "version": "3.7.0"
  }
 },
 "nbformat": 4,
 "nbformat_minor": 2
}
