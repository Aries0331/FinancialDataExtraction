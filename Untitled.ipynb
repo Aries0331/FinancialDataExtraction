{
 "cells": [
  {
   "cell_type": "code",
   "execution_count": 63,
   "metadata": {},
   "outputs": [],
   "source": [
    "import pandas as pd\n",
    "import numpy as np"
   ]
  },
  {
   "cell_type": "code",
   "execution_count": 2,
   "metadata": {},
   "outputs": [],
   "source": [
    "df = pd.read_excel(\"all_data.xlsx\")"
   ]
  },
  {
   "cell_type": "code",
   "execution_count": 10,
   "metadata": {},
   "outputs": [
    {
     "data": {
      "text/html": [
       "<div>\n",
       "<style scoped>\n",
       "    .dataframe tbody tr th:only-of-type {\n",
       "        vertical-align: middle;\n",
       "    }\n",
       "\n",
       "    .dataframe tbody tr th {\n",
       "        vertical-align: top;\n",
       "    }\n",
       "\n",
       "    .dataframe thead th {\n",
       "        text-align: right;\n",
       "    }\n",
       "</style>\n",
       "<table border=\"1\" class=\"dataframe\">\n",
       "  <thead>\n",
       "    <tr style=\"text-align: right;\">\n",
       "      <th></th>\n",
       "      <th>Asia - Long</th>\n",
       "      <th>Asia - Net</th>\n",
       "      <th>Asia - Short</th>\n",
       "      <th>Beginning Balance</th>\n",
       "      <th>Capital Call Amount ($)*</th>\n",
       "      <th>Capital Call (%)</th>\n",
       "      <th>Capital Reserve Balance ($)</th>\n",
       "      <th>Commitment</th>\n",
       "      <th>Consumer Discretionary - Long</th>\n",
       "      <th>Consumer Discretionary - Net</th>\n",
       "      <th>...</th>\n",
       "      <th>Category Name</th>\n",
       "      <th>Sub Category</th>\n",
       "      <th>File Name</th>\n",
       "      <th>Original File Name</th>\n",
       "      <th>Investment Structure</th>\n",
       "      <th>Last Modified</th>\n",
       "      <th>Modified by</th>\n",
       "      <th>Investment Legal Name</th>\n",
       "      <th>Investment Extraction Alias</th>\n",
       "      <th>Entity Extraction Alias</th>\n",
       "    </tr>\n",
       "  </thead>\n",
       "  <tbody>\n",
       "    <tr>\n",
       "      <th>0</th>\n",
       "      <td>NaN</td>\n",
       "      <td>NaN</td>\n",
       "      <td>NaN</td>\n",
       "      <td>531250.00</td>\n",
       "      <td>NaN</td>\n",
       "      <td>NaN</td>\n",
       "      <td>NaN</td>\n",
       "      <td>1250000.0</td>\n",
       "      <td>NaN</td>\n",
       "      <td>NaN</td>\n",
       "      <td>...</td>\n",
       "      <td>Capital Activity</td>\n",
       "      <td>Account Statement</td>\n",
       "      <td>Liverpool Investments L.P. - Henderson Holding...</td>\n",
       "      <td>LiverpoolQuarterlyAcctStatements1148.pdf</td>\n",
       "      <td>Drawdown Fund</td>\n",
       "      <td>2019-01-26 17:01:27</td>\n",
       "      <td>canoe software</td>\n",
       "      <td>NaN</td>\n",
       "      <td>NaN</td>\n",
       "      <td>Henderson Holding Group LLC</td>\n",
       "    </tr>\n",
       "    <tr>\n",
       "      <th>1</th>\n",
       "      <td>NaN</td>\n",
       "      <td>NaN</td>\n",
       "      <td>NaN</td>\n",
       "      <td>605514.45</td>\n",
       "      <td>NaN</td>\n",
       "      <td>NaN</td>\n",
       "      <td>NaN</td>\n",
       "      <td>1250000.0</td>\n",
       "      <td>NaN</td>\n",
       "      <td>NaN</td>\n",
       "      <td>...</td>\n",
       "      <td>Capital Activity</td>\n",
       "      <td>Account Statement</td>\n",
       "      <td>Liverpool Investments L.P. - Henderson Holding...</td>\n",
       "      <td>Henderson Holding Group LLC - Liverpool Invest...</td>\n",
       "      <td>Drawdown Fund</td>\n",
       "      <td>2019-01-26 17:01:27</td>\n",
       "      <td>canoe software</td>\n",
       "      <td>NaN</td>\n",
       "      <td>NaN</td>\n",
       "      <td>Henderson Holding Group LLC</td>\n",
       "    </tr>\n",
       "    <tr>\n",
       "      <th>2</th>\n",
       "      <td>NaN</td>\n",
       "      <td>NaN</td>\n",
       "      <td>NaN</td>\n",
       "      <td>697346.19</td>\n",
       "      <td>NaN</td>\n",
       "      <td>NaN</td>\n",
       "      <td>NaN</td>\n",
       "      <td>1250000.0</td>\n",
       "      <td>NaN</td>\n",
       "      <td>NaN</td>\n",
       "      <td>...</td>\n",
       "      <td>Capital Activity</td>\n",
       "      <td>Account Statement</td>\n",
       "      <td>Liverpool Investments L.P. - Henderson Holding...</td>\n",
       "      <td>Henderson Holding Group LLC - Liverpool Invest...</td>\n",
       "      <td>Drawdown Fund</td>\n",
       "      <td>2019-01-26 17:01:28</td>\n",
       "      <td>canoe software</td>\n",
       "      <td>NaN</td>\n",
       "      <td>NaN</td>\n",
       "      <td>Henderson Holding Group LLC</td>\n",
       "    </tr>\n",
       "    <tr>\n",
       "      <th>3</th>\n",
       "      <td>NaN</td>\n",
       "      <td>NaN</td>\n",
       "      <td>NaN</td>\n",
       "      <td>723538.84</td>\n",
       "      <td>NaN</td>\n",
       "      <td>NaN</td>\n",
       "      <td>NaN</td>\n",
       "      <td>1250000.0</td>\n",
       "      <td>NaN</td>\n",
       "      <td>NaN</td>\n",
       "      <td>...</td>\n",
       "      <td>Capital Activity</td>\n",
       "      <td>Account Statement</td>\n",
       "      <td>Liverpool Investments L.P. - Henderson Holding...</td>\n",
       "      <td>Henderson Holding Group LLC - Liverpool Invest...</td>\n",
       "      <td>Drawdown Fund</td>\n",
       "      <td>2019-01-26 17:01:28</td>\n",
       "      <td>canoe software</td>\n",
       "      <td>NaN</td>\n",
       "      <td>NaN</td>\n",
       "      <td>Henderson Holding Group LLC</td>\n",
       "    </tr>\n",
       "    <tr>\n",
       "      <th>4</th>\n",
       "      <td>NaN</td>\n",
       "      <td>NaN</td>\n",
       "      <td>NaN</td>\n",
       "      <td>760465.85</td>\n",
       "      <td>NaN</td>\n",
       "      <td>NaN</td>\n",
       "      <td>NaN</td>\n",
       "      <td>1250000.0</td>\n",
       "      <td>NaN</td>\n",
       "      <td>NaN</td>\n",
       "      <td>...</td>\n",
       "      <td>Capital Activity</td>\n",
       "      <td>Account Statement</td>\n",
       "      <td>Liverpool Investments L.P. - Henderson Holding...</td>\n",
       "      <td>Henderson Holding Group LLC - Liverpool Invest...</td>\n",
       "      <td>Drawdown Fund</td>\n",
       "      <td>2019-01-26 17:01:28</td>\n",
       "      <td>canoe software</td>\n",
       "      <td>NaN</td>\n",
       "      <td>NaN</td>\n",
       "      <td>Henderson Holding Group LLC</td>\n",
       "    </tr>\n",
       "  </tbody>\n",
       "</table>\n",
       "<p>5 rows × 112 columns</p>\n",
       "</div>"
      ],
      "text/plain": [
       "   Asia - Long  Asia - Net  Asia - Short  Beginning Balance  \\\n",
       "0          NaN         NaN           NaN          531250.00   \n",
       "1          NaN         NaN           NaN          605514.45   \n",
       "2          NaN         NaN           NaN          697346.19   \n",
       "3          NaN         NaN           NaN          723538.84   \n",
       "4          NaN         NaN           NaN          760465.85   \n",
       "\n",
       "   Capital Call Amount ($)*  Capital Call (%)  Capital Reserve Balance ($)  \\\n",
       "0                       NaN               NaN                          NaN   \n",
       "1                       NaN               NaN                          NaN   \n",
       "2                       NaN               NaN                          NaN   \n",
       "3                       NaN               NaN                          NaN   \n",
       "4                       NaN               NaN                          NaN   \n",
       "\n",
       "   Commitment  Consumer Discretionary - Long  Consumer Discretionary - Net  \\\n",
       "0   1250000.0                            NaN                           NaN   \n",
       "1   1250000.0                            NaN                           NaN   \n",
       "2   1250000.0                            NaN                           NaN   \n",
       "3   1250000.0                            NaN                           NaN   \n",
       "4   1250000.0                            NaN                           NaN   \n",
       "\n",
       "              ...                  Category Name       Sub Category  \\\n",
       "0             ...               Capital Activity  Account Statement   \n",
       "1             ...               Capital Activity  Account Statement   \n",
       "2             ...               Capital Activity  Account Statement   \n",
       "3             ...               Capital Activity  Account Statement   \n",
       "4             ...               Capital Activity  Account Statement   \n",
       "\n",
       "                                           File Name  \\\n",
       "0  Liverpool Investments L.P. - Henderson Holding...   \n",
       "1  Liverpool Investments L.P. - Henderson Holding...   \n",
       "2  Liverpool Investments L.P. - Henderson Holding...   \n",
       "3  Liverpool Investments L.P. - Henderson Holding...   \n",
       "4  Liverpool Investments L.P. - Henderson Holding...   \n",
       "\n",
       "                                  Original File Name  Investment Structure  \\\n",
       "0           LiverpoolQuarterlyAcctStatements1148.pdf         Drawdown Fund   \n",
       "1  Henderson Holding Group LLC - Liverpool Invest...         Drawdown Fund   \n",
       "2  Henderson Holding Group LLC - Liverpool Invest...         Drawdown Fund   \n",
       "3  Henderson Holding Group LLC - Liverpool Invest...         Drawdown Fund   \n",
       "4  Henderson Holding Group LLC - Liverpool Invest...         Drawdown Fund   \n",
       "\n",
       "         Last Modified     Modified by  Investment Legal Name  \\\n",
       "0  2019-01-26 17:01:27  canoe software                    NaN   \n",
       "1  2019-01-26 17:01:27  canoe software                    NaN   \n",
       "2  2019-01-26 17:01:28  canoe software                    NaN   \n",
       "3  2019-01-26 17:01:28  canoe software                    NaN   \n",
       "4  2019-01-26 17:01:28  canoe software                    NaN   \n",
       "\n",
       "   Investment Extraction Alias      Entity Extraction Alias  \n",
       "0                          NaN  Henderson Holding Group LLC  \n",
       "1                          NaN  Henderson Holding Group LLC  \n",
       "2                          NaN  Henderson Holding Group LLC  \n",
       "3                          NaN  Henderson Holding Group LLC  \n",
       "4                          NaN  Henderson Holding Group LLC  \n",
       "\n",
       "[5 rows x 112 columns]"
      ]
     },
     "execution_count": 10,
     "metadata": {},
     "output_type": "execute_result"
    }
   ],
   "source": [
    "df.head()"
   ]
  },
  {
   "cell_type": "code",
   "execution_count": 14,
   "metadata": {},
   "outputs": [],
   "source": [
    "# df[['Category Name', 'Sub Category', 'File Name']]"
   ]
  },
  {
   "cell_type": "code",
   "execution_count": 3,
   "metadata": {},
   "outputs": [],
   "source": [
    "new_df = df[['Category Name', 'Sub Category', 'File Name']]"
   ]
  },
  {
   "cell_type": "code",
   "execution_count": 4,
   "metadata": {},
   "outputs": [
    {
     "data": {
      "text/html": [
       "<div>\n",
       "<style scoped>\n",
       "    .dataframe tbody tr th:only-of-type {\n",
       "        vertical-align: middle;\n",
       "    }\n",
       "\n",
       "    .dataframe tbody tr th {\n",
       "        vertical-align: top;\n",
       "    }\n",
       "\n",
       "    .dataframe thead th {\n",
       "        text-align: right;\n",
       "    }\n",
       "</style>\n",
       "<table border=\"1\" class=\"dataframe\">\n",
       "  <thead>\n",
       "    <tr style=\"text-align: right;\">\n",
       "      <th></th>\n",
       "      <th>Category Name</th>\n",
       "      <th>Sub Category</th>\n",
       "      <th>File Name</th>\n",
       "    </tr>\n",
       "  </thead>\n",
       "  <tbody>\n",
       "    <tr>\n",
       "      <th>0</th>\n",
       "      <td>Capital Activity</td>\n",
       "      <td>Account Statement</td>\n",
       "      <td>Liverpool Investments L.P. - Henderson Holding...</td>\n",
       "    </tr>\n",
       "    <tr>\n",
       "      <th>1</th>\n",
       "      <td>Capital Activity</td>\n",
       "      <td>Account Statement</td>\n",
       "      <td>Liverpool Investments L.P. - Henderson Holding...</td>\n",
       "    </tr>\n",
       "    <tr>\n",
       "      <th>2</th>\n",
       "      <td>Capital Activity</td>\n",
       "      <td>Account Statement</td>\n",
       "      <td>Liverpool Investments L.P. - Henderson Holding...</td>\n",
       "    </tr>\n",
       "    <tr>\n",
       "      <th>3</th>\n",
       "      <td>Capital Activity</td>\n",
       "      <td>Account Statement</td>\n",
       "      <td>Liverpool Investments L.P. - Henderson Holding...</td>\n",
       "    </tr>\n",
       "    <tr>\n",
       "      <th>4</th>\n",
       "      <td>Capital Activity</td>\n",
       "      <td>Account Statement</td>\n",
       "      <td>Liverpool Investments L.P. - Henderson Holding...</td>\n",
       "    </tr>\n",
       "  </tbody>\n",
       "</table>\n",
       "</div>"
      ],
      "text/plain": [
       "      Category Name       Sub Category  \\\n",
       "0  Capital Activity  Account Statement   \n",
       "1  Capital Activity  Account Statement   \n",
       "2  Capital Activity  Account Statement   \n",
       "3  Capital Activity  Account Statement   \n",
       "4  Capital Activity  Account Statement   \n",
       "\n",
       "                                           File Name  \n",
       "0  Liverpool Investments L.P. - Henderson Holding...  \n",
       "1  Liverpool Investments L.P. - Henderson Holding...  \n",
       "2  Liverpool Investments L.P. - Henderson Holding...  \n",
       "3  Liverpool Investments L.P. - Henderson Holding...  \n",
       "4  Liverpool Investments L.P. - Henderson Holding...  "
      ]
     },
     "execution_count": 4,
     "metadata": {},
     "output_type": "execute_result"
    }
   ],
   "source": [
    "new_df.head()"
   ]
  },
  {
   "cell_type": "code",
   "execution_count": 13,
   "metadata": {},
   "outputs": [],
   "source": [
    "new_df = new_df[:-1]"
   ]
  },
  {
   "cell_type": "code",
   "execution_count": 5,
   "metadata": {},
   "outputs": [
    {
     "data": {
      "text/plain": [
       "(277, 3)"
      ]
     },
     "execution_count": 5,
     "metadata": {},
     "output_type": "execute_result"
    }
   ],
   "source": [
    "new_df.shape"
   ]
  },
  {
   "cell_type": "code",
   "execution_count": 114,
   "metadata": {},
   "outputs": [
    {
     "data": {
      "text/plain": [
       "array(['Account Statement', 'Distribution Notice', 'Call Notice',\n",
       "       'Investor Letter', 'Fact Sheet'], dtype=object)"
      ]
     },
     "execution_count": 114,
     "metadata": {},
     "output_type": "execute_result"
    }
   ],
   "source": [
    "new_df['Sub Category'].unique()"
   ]
  },
  {
   "cell_type": "code",
   "execution_count": 6,
   "metadata": {},
   "outputs": [],
   "source": [
    "def category_to_numeric(x):\n",
    "    if x == 'Account Statement':\n",
    "        return 1\n",
    "    elif x == 'Distribution Notice':\n",
    "        return 2\n",
    "    elif x == 'Call Notice':\n",
    "        return 3\n",
    "    else:\n",
    "        return -1"
   ]
  },
  {
   "cell_type": "code",
   "execution_count": 7,
   "metadata": {},
   "outputs": [
    {
     "name": "stderr",
     "output_type": "stream",
     "text": [
      "/Library/Frameworks/Python.framework/Versions/3.7/lib/python3.7/site-packages/ipykernel_launcher.py:1: SettingWithCopyWarning: \n",
      "A value is trying to be set on a copy of a slice from a DataFrame.\n",
      "Try using .loc[row_indexer,col_indexer] = value instead\n",
      "\n",
      "See the caveats in the documentation: http://pandas.pydata.org/pandas-docs/stable/indexing.html#indexing-view-versus-copy\n",
      "  \"\"\"Entry point for launching an IPython kernel.\n"
     ]
    }
   ],
   "source": [
    "new_df['category'] = new_df['Sub Category'].apply(category_to_numeric)"
   ]
  },
  {
   "cell_type": "code",
   "execution_count": 8,
   "metadata": {},
   "outputs": [
    {
     "data": {
      "text/plain": [
       "array([ 1,  2,  3, -1])"
      ]
     },
     "execution_count": 8,
     "metadata": {},
     "output_type": "execute_result"
    }
   ],
   "source": [
    "new_df['category'].unique()"
   ]
  },
  {
   "cell_type": "code",
   "execution_count": 9,
   "metadata": {},
   "outputs": [
    {
     "data": {
      "text/html": [
       "<div>\n",
       "<style scoped>\n",
       "    .dataframe tbody tr th:only-of-type {\n",
       "        vertical-align: middle;\n",
       "    }\n",
       "\n",
       "    .dataframe tbody tr th {\n",
       "        vertical-align: top;\n",
       "    }\n",
       "\n",
       "    .dataframe thead th {\n",
       "        text-align: right;\n",
       "    }\n",
       "</style>\n",
       "<table border=\"1\" class=\"dataframe\">\n",
       "  <thead>\n",
       "    <tr style=\"text-align: right;\">\n",
       "      <th></th>\n",
       "      <th>Category Name</th>\n",
       "      <th>Sub Category</th>\n",
       "      <th>File Name</th>\n",
       "      <th>category</th>\n",
       "    </tr>\n",
       "  </thead>\n",
       "  <tbody>\n",
       "    <tr>\n",
       "      <th>0</th>\n",
       "      <td>Capital Activity</td>\n",
       "      <td>Account Statement</td>\n",
       "      <td>Liverpool Investments L.P. - Henderson Holding...</td>\n",
       "      <td>1</td>\n",
       "    </tr>\n",
       "    <tr>\n",
       "      <th>1</th>\n",
       "      <td>Capital Activity</td>\n",
       "      <td>Account Statement</td>\n",
       "      <td>Liverpool Investments L.P. - Henderson Holding...</td>\n",
       "      <td>1</td>\n",
       "    </tr>\n",
       "    <tr>\n",
       "      <th>2</th>\n",
       "      <td>Capital Activity</td>\n",
       "      <td>Account Statement</td>\n",
       "      <td>Liverpool Investments L.P. - Henderson Holding...</td>\n",
       "      <td>1</td>\n",
       "    </tr>\n",
       "    <tr>\n",
       "      <th>3</th>\n",
       "      <td>Capital Activity</td>\n",
       "      <td>Account Statement</td>\n",
       "      <td>Liverpool Investments L.P. - Henderson Holding...</td>\n",
       "      <td>1</td>\n",
       "    </tr>\n",
       "    <tr>\n",
       "      <th>4</th>\n",
       "      <td>Capital Activity</td>\n",
       "      <td>Account Statement</td>\n",
       "      <td>Liverpool Investments L.P. - Henderson Holding...</td>\n",
       "      <td>1</td>\n",
       "    </tr>\n",
       "  </tbody>\n",
       "</table>\n",
       "</div>"
      ],
      "text/plain": [
       "      Category Name       Sub Category  \\\n",
       "0  Capital Activity  Account Statement   \n",
       "1  Capital Activity  Account Statement   \n",
       "2  Capital Activity  Account Statement   \n",
       "3  Capital Activity  Account Statement   \n",
       "4  Capital Activity  Account Statement   \n",
       "\n",
       "                                           File Name  category  \n",
       "0  Liverpool Investments L.P. - Henderson Holding...         1  \n",
       "1  Liverpool Investments L.P. - Henderson Holding...         1  \n",
       "2  Liverpool Investments L.P. - Henderson Holding...         1  \n",
       "3  Liverpool Investments L.P. - Henderson Holding...         1  \n",
       "4  Liverpool Investments L.P. - Henderson Holding...         1  "
      ]
     },
     "execution_count": 9,
     "metadata": {},
     "output_type": "execute_result"
    }
   ],
   "source": [
    "new_df.head()"
   ]
  },
  {
   "cell_type": "code",
   "execution_count": 10,
   "metadata": {},
   "outputs": [],
   "source": [
    "new_df = new_df.sort_values(by='File Name').reset_index()"
   ]
  },
  {
   "cell_type": "code",
   "execution_count": 11,
   "metadata": {},
   "outputs": [
    {
     "data": {
      "text/html": [
       "<div>\n",
       "<style scoped>\n",
       "    .dataframe tbody tr th:only-of-type {\n",
       "        vertical-align: middle;\n",
       "    }\n",
       "\n",
       "    .dataframe tbody tr th {\n",
       "        vertical-align: top;\n",
       "    }\n",
       "\n",
       "    .dataframe thead th {\n",
       "        text-align: right;\n",
       "    }\n",
       "</style>\n",
       "<table border=\"1\" class=\"dataframe\">\n",
       "  <thead>\n",
       "    <tr style=\"text-align: right;\">\n",
       "      <th></th>\n",
       "      <th>index</th>\n",
       "      <th>Category Name</th>\n",
       "      <th>Sub Category</th>\n",
       "      <th>File Name</th>\n",
       "      <th>category</th>\n",
       "    </tr>\n",
       "  </thead>\n",
       "  <tbody>\n",
       "    <tr>\n",
       "      <th>0</th>\n",
       "      <td>195</td>\n",
       "      <td>Capital Activity</td>\n",
       "      <td>Account Statement</td>\n",
       "      <td>Arsenal Capital Group - Wenger Partners  - Acc...</td>\n",
       "      <td>1</td>\n",
       "    </tr>\n",
       "    <tr>\n",
       "      <th>1</th>\n",
       "      <td>199</td>\n",
       "      <td>Capital Activity</td>\n",
       "      <td>Account Statement</td>\n",
       "      <td>Arsenal Capital Group - Wenger Partners  - Acc...</td>\n",
       "      <td>1</td>\n",
       "    </tr>\n",
       "    <tr>\n",
       "      <th>2</th>\n",
       "      <td>275</td>\n",
       "      <td>Capital Activity</td>\n",
       "      <td>Account Statement</td>\n",
       "      <td>Arsenal Capital Group - Wenger Partners  - Acc...</td>\n",
       "      <td>1</td>\n",
       "    </tr>\n",
       "    <tr>\n",
       "      <th>3</th>\n",
       "      <td>192</td>\n",
       "      <td>Capital Activity</td>\n",
       "      <td>Account Statement</td>\n",
       "      <td>Arsenal Capital Group - Wenger Partners  - Acc...</td>\n",
       "      <td>1</td>\n",
       "    </tr>\n",
       "    <tr>\n",
       "      <th>4</th>\n",
       "      <td>196</td>\n",
       "      <td>Capital Activity</td>\n",
       "      <td>Account Statement</td>\n",
       "      <td>Arsenal Capital Group - Wenger Partners  - Acc...</td>\n",
       "      <td>1</td>\n",
       "    </tr>\n",
       "  </tbody>\n",
       "</table>\n",
       "</div>"
      ],
      "text/plain": [
       "   index     Category Name       Sub Category  \\\n",
       "0    195  Capital Activity  Account Statement   \n",
       "1    199  Capital Activity  Account Statement   \n",
       "2    275  Capital Activity  Account Statement   \n",
       "3    192  Capital Activity  Account Statement   \n",
       "4    196  Capital Activity  Account Statement   \n",
       "\n",
       "                                           File Name  category  \n",
       "0  Arsenal Capital Group - Wenger Partners  - Acc...         1  \n",
       "1  Arsenal Capital Group - Wenger Partners  - Acc...         1  \n",
       "2  Arsenal Capital Group - Wenger Partners  - Acc...         1  \n",
       "3  Arsenal Capital Group - Wenger Partners  - Acc...         1  \n",
       "4  Arsenal Capital Group - Wenger Partners  - Acc...         1  "
      ]
     },
     "execution_count": 11,
     "metadata": {},
     "output_type": "execute_result"
    }
   ],
   "source": [
    "new_df.head()"
   ]
  },
  {
   "cell_type": "code",
   "execution_count": 14,
   "metadata": {},
   "outputs": [
    {
     "data": {
      "text/plain": [
       "276"
      ]
     },
     "execution_count": 14,
     "metadata": {},
     "output_type": "execute_result"
    }
   ],
   "source": [
    "len(new_df['File Name'])"
   ]
  },
  {
   "cell_type": "code",
   "execution_count": 15,
   "metadata": {},
   "outputs": [],
   "source": [
    "import os\n",
    "pdfs = os.listdir(\"docs/raw_data/\")"
   ]
  },
  {
   "cell_type": "code",
   "execution_count": 16,
   "metadata": {},
   "outputs": [
    {
     "data": {
      "text/plain": [
       "277"
      ]
     },
     "execution_count": 16,
     "metadata": {},
     "output_type": "execute_result"
    }
   ],
   "source": [
    "len(pdfs)"
   ]
  },
  {
   "cell_type": "code",
   "execution_count": 17,
   "metadata": {},
   "outputs": [],
   "source": [
    "pdfs.sort()"
   ]
  },
  {
   "cell_type": "code",
   "execution_count": 19,
   "metadata": {},
   "outputs": [],
   "source": [
    "# pdfs"
   ]
  },
  {
   "cell_type": "code",
   "execution_count": 20,
   "metadata": {},
   "outputs": [],
   "source": [
    "new_df['file'] = pdfs[1:]"
   ]
  },
  {
   "cell_type": "code",
   "execution_count": 21,
   "metadata": {},
   "outputs": [],
   "source": [
    "import PyPDF2 "
   ]
  },
  {
   "cell_type": "code",
   "execution_count": 29,
   "metadata": {},
   "outputs": [],
   "source": [
    "pdfFileObj = open('docs/raw_data/Crystal Palace, LLC - Fact Sheet - 2018-06-30.pdf', 'rb')"
   ]
  },
  {
   "cell_type": "code",
   "execution_count": 30,
   "metadata": {},
   "outputs": [],
   "source": [
    "pdfReader = PyPDF2.PdfFileReader(pdfFileObj)"
   ]
  },
  {
   "cell_type": "code",
   "execution_count": 31,
   "metadata": {},
   "outputs": [
    {
     "data": {
      "text/plain": [
       "2"
      ]
     },
     "execution_count": 31,
     "metadata": {},
     "output_type": "execute_result"
    }
   ],
   "source": [
    "pdfReader.numPages"
   ]
  },
  {
   "cell_type": "code",
   "execution_count": 32,
   "metadata": {},
   "outputs": [],
   "source": [
    "pageObj = pdfReader.getPage(0)"
   ]
  },
  {
   "cell_type": "code",
   "execution_count": 44,
   "metadata": {},
   "outputs": [
    {
     "ename": "NameError",
     "evalue": "name 'pageObj' is not defined",
     "output_type": "error",
     "traceback": [
      "\u001b[0;31m---------------------------------------------------------------------------\u001b[0m",
      "\u001b[0;31mNameError\u001b[0m                                 Traceback (most recent call last)",
      "\u001b[0;32m<ipython-input-44-528c1c1c9796>\u001b[0m in \u001b[0;36m<module>\u001b[0;34m()\u001b[0m\n\u001b[0;32m----> 1\u001b[0;31m \u001b[0mcontents\u001b[0m \u001b[0;34m=\u001b[0m \u001b[0mpageObj\u001b[0m\u001b[0;34m.\u001b[0m\u001b[0mextractText\u001b[0m\u001b[0;34m(\u001b[0m\u001b[0;34m)\u001b[0m\u001b[0;34m.\u001b[0m\u001b[0mstrip\u001b[0m\u001b[0;34m(\u001b[0m\u001b[0;34m)\u001b[0m\u001b[0;34m\u001b[0m\u001b[0m\n\u001b[0m\u001b[1;32m      2\u001b[0m \u001b[0;31m# print(contents)\u001b[0m\u001b[0;34m\u001b[0m\u001b[0;34m\u001b[0m\u001b[0m\n",
      "\u001b[0;31mNameError\u001b[0m: name 'pageObj' is not defined"
     ]
    }
   ],
   "source": [
    "contents = pageObj.extractText().strip()\n",
    "# print(contents)"
   ]
  },
  {
   "cell_type": "code",
   "execution_count": 22,
   "metadata": {},
   "outputs": [],
   "source": [
    "import pdftotext"
   ]
  },
  {
   "cell_type": "code",
   "execution_count": 156,
   "metadata": {},
   "outputs": [],
   "source": [
    "with open('docs/raw_data/Crystal Palace, LLC - Fact Sheet - 2018-06-30.pdf', 'rb') as f:\n",
    "    p = pdftotext.PDF(f)"
   ]
  },
  {
   "cell_type": "code",
   "execution_count": 23,
   "metadata": {},
   "outputs": [],
   "source": [
    "import nltk\n",
    "# print(nltk.sent_tokenize(p[0]))"
   ]
  },
  {
   "cell_type": "code",
   "execution_count": 163,
   "metadata": {},
   "outputs": [],
   "source": [
    "# for file in glob.glob('docs/raw_data/*.pdf'):\n",
    "#     print(file)"
   ]
  },
  {
   "cell_type": "code",
   "execution_count": 169,
   "metadata": {},
   "outputs": [],
   "source": [
    "import pdftotext\n",
    "import glob\n",
    "import os\n",
    "import nltk\n",
    "for file in glob.glob('docs/raw_data/*.pdf'):\n",
    "    content = []\n",
    "    with open(file, 'rb') as f:\n",
    "        pdf = pdftotext.PDF(f)\n",
    "#         print (pdf)\n",
    "        for page in pdf:\n",
    "            content += nltk.sent_tokenize(page)\n",
    "#             print(content)\n",
    "    filename = file.split('/')[2].split('.')[0] + '.txt'\n",
    "#     print('\\n'.join(content))\n",
    "    f = open('text_files/'+filename, 'w')\n",
    "    f.write(''.join(content))\n",
    "    f.close()"
   ]
  },
  {
   "cell_type": "code",
   "execution_count": 53,
   "metadata": {},
   "outputs": [],
   "source": [
    "new_df['text'] = None"
   ]
  },
  {
   "cell_type": "code",
   "execution_count": 54,
   "metadata": {},
   "outputs": [
    {
     "name": "stderr",
     "output_type": "stream",
     "text": [
      "/Library/Frameworks/Python.framework/Versions/3.7/lib/python3.7/site-packages/ipykernel_launcher.py:16: SettingWithCopyWarning: \n",
      "A value is trying to be set on a copy of a slice from a DataFrame\n",
      "\n",
      "See the caveats in the documentation: http://pandas.pydata.org/pandas-docs/stable/indexing.html#indexing-view-versus-copy\n",
      "  app.launch_new_instance()\n"
     ]
    }
   ],
   "source": [
    "import pdftotext\n",
    "import glob\n",
    "import os\n",
    "import nltk\n",
    "row = 0\n",
    "for file in glob.glob('docs/raw_data/*.pdf'):\n",
    "    content = []\n",
    "    with open(file, 'rb') as f:\n",
    "        pdf = pdftotext.PDF(f)\n",
    "#         print (pdf)\n",
    "        for page in pdf:\n",
    "            page = page.replace('\\n', ' ')\n",
    "#             print(page)\n",
    "            content += nltk.sent_tokenize(page)\n",
    "#     print(content)\n",
    "    new_df['text'][row] = content[0]\n",
    "    row += 1\n",
    "#     break\n",
    "#     filename = file.split('/')[2].split('.')[0] + '.txt'\n",
    "# #     print('\\n'.join(content))\n",
    "#     f = open('text_files/'+filename, 'w')\n",
    "#     f.write(''.join(content))\n",
    "#     f.close()"
   ]
  },
  {
   "cell_type": "code",
   "execution_count": 42,
   "metadata": {},
   "outputs": [],
   "source": [
    "content = ''\n",
    "with open(\"docs/raw_data/Newcastle Ventures, LLC - Henderson Holding Group - Capital Call Notice - 2017-03-20.pdf\", 'rb') as f:\n",
    "    pdf = pdftotext.PDF(f)\n",
    "#         print (pdf)\n",
    "    for page in pdf:\n",
    "        page = page.replace('\\n', ' ')\n",
    "        content += ''.join(nltk.sent_tokenize(page))"
   ]
  },
  {
   "cell_type": "code",
   "execution_count": 43,
   "metadata": {},
   "outputs": [
    {
     "data": {
      "text/plain": [
       "'            Newcastle Ventures TO: Henderson Holding Group FROM: Newcastle Ventures, LLC DATE: 3/10/2017 RE: Capital Call Notice for Henderson Holding Group - Due 3/20/2017 Newcastle Ventures, GP (the “Partnership”) is issuing a capital call request in accordance with section 5.1 of the Limited Partnership Agreement (the “Agreement”).The total capital called is $27,117,728 and will be used to fund investments out of the Partnership and to pay management fees and operating expenses.Please send a wire transfer or mail a check for $145,000.00 by Monday, 20 March 2017 as follows: WIRE INSTRUCTIONS:            Institution:         Marin Valley Bank                               Account Number:      72839473                               Bank Address:        383 Juniper Rd                                                    Beverly Hills, CA 90210                               Reference:           Yedlin Capital LLC CHECK INSTRUCTIONS: If you are funding via check, please mail the check payable to Newcastle Ventures, GP to the following address:                               Newcastle Ventures                               4 Strawberry Place                               Newcastle Upon Tyne, London, UK If you have any questions regarding this notice, please contact Rafael Benitez at Rafael@newcastle.com Sincerely, Rafael Benitez General Partner'"
      ]
     },
     "execution_count": 43,
     "metadata": {},
     "output_type": "execute_result"
    }
   ],
   "source": [
    "content"
   ]
  },
  {
   "cell_type": "code",
   "execution_count": 55,
   "metadata": {},
   "outputs": [
    {
     "data": {
      "text/html": [
       "<div>\n",
       "<style scoped>\n",
       "    .dataframe tbody tr th:only-of-type {\n",
       "        vertical-align: middle;\n",
       "    }\n",
       "\n",
       "    .dataframe tbody tr th {\n",
       "        vertical-align: top;\n",
       "    }\n",
       "\n",
       "    .dataframe thead th {\n",
       "        text-align: right;\n",
       "    }\n",
       "</style>\n",
       "<table border=\"1\" class=\"dataframe\">\n",
       "  <thead>\n",
       "    <tr style=\"text-align: right;\">\n",
       "      <th></th>\n",
       "      <th>index</th>\n",
       "      <th>Category Name</th>\n",
       "      <th>Sub Category</th>\n",
       "      <th>File Name</th>\n",
       "      <th>category</th>\n",
       "      <th>file</th>\n",
       "      <th>text</th>\n",
       "    </tr>\n",
       "  </thead>\n",
       "  <tbody>\n",
       "    <tr>\n",
       "      <th>0</th>\n",
       "      <td>195</td>\n",
       "      <td>Capital Activity</td>\n",
       "      <td>Account Statement</td>\n",
       "      <td>Arsenal Capital Group - Wenger Partners  - Acc...</td>\n",
       "      <td>1</td>\n",
       "      <td>Arsenal Capital Group - Wenger Partners  - Acc...</td>\n",
       "      <td>Chelsea Partners ...</td>\n",
       "    </tr>\n",
       "    <tr>\n",
       "      <th>1</th>\n",
       "      <td>199</td>\n",
       "      <td>Capital Activity</td>\n",
       "      <td>Account Statement</td>\n",
       "      <td>Arsenal Capital Group - Wenger Partners  - Acc...</td>\n",
       "      <td>1</td>\n",
       "      <td>Arsenal Capital Group - Wenger Partners  - Acc...</td>\n",
       "      <td>Liverpool       Investments 6/30/2017 To...</td>\n",
       "    </tr>\n",
       "    <tr>\n",
       "      <th>2</th>\n",
       "      <td>275</td>\n",
       "      <td>Capital Activity</td>\n",
       "      <td>Account Statement</td>\n",
       "      <td>Arsenal Capital Group - Wenger Partners  - Acc...</td>\n",
       "      <td>1</td>\n",
       "      <td>Arsenal Capital Group - Wenger Partners  - Acc...</td>\n",
       "      <td>Newcastle Ventu...</td>\n",
       "    </tr>\n",
       "    <tr>\n",
       "      <th>3</th>\n",
       "      <td>192</td>\n",
       "      <td>Capital Activity</td>\n",
       "      <td>Account Statement</td>\n",
       "      <td>Arsenal Capital Group - Wenger Partners  - Acc...</td>\n",
       "      <td>1</td>\n",
       "      <td>Arsenal Capital Group - Wenger Partners  - Acc...</td>\n",
       "      <td>4/14/2016 Courtois Investment Group 5 Fulham R...</td>\n",
       "    </tr>\n",
       "    <tr>\n",
       "      <th>4</th>\n",
       "      <td>196</td>\n",
       "      <td>Capital Activity</td>\n",
       "      <td>Account Statement</td>\n",
       "      <td>Arsenal Capital Group - Wenger Partners  - Acc...</td>\n",
       "      <td>1</td>\n",
       "      <td>Arsenal Capital Group - Wenger Partners  - Acc...</td>\n",
       "      <td>Liverpool         Investments R 1/15/2...</td>\n",
       "    </tr>\n",
       "  </tbody>\n",
       "</table>\n",
       "</div>"
      ],
      "text/plain": [
       "   index     Category Name       Sub Category  \\\n",
       "0    195  Capital Activity  Account Statement   \n",
       "1    199  Capital Activity  Account Statement   \n",
       "2    275  Capital Activity  Account Statement   \n",
       "3    192  Capital Activity  Account Statement   \n",
       "4    196  Capital Activity  Account Statement   \n",
       "\n",
       "                                           File Name  category  \\\n",
       "0  Arsenal Capital Group - Wenger Partners  - Acc...         1   \n",
       "1  Arsenal Capital Group - Wenger Partners  - Acc...         1   \n",
       "2  Arsenal Capital Group - Wenger Partners  - Acc...         1   \n",
       "3  Arsenal Capital Group - Wenger Partners  - Acc...         1   \n",
       "4  Arsenal Capital Group - Wenger Partners  - Acc...         1   \n",
       "\n",
       "                                                file  \\\n",
       "0  Arsenal Capital Group - Wenger Partners  - Acc...   \n",
       "1  Arsenal Capital Group - Wenger Partners  - Acc...   \n",
       "2  Arsenal Capital Group - Wenger Partners  - Acc...   \n",
       "3  Arsenal Capital Group - Wenger Partners  - Acc...   \n",
       "4  Arsenal Capital Group - Wenger Partners  - Acc...   \n",
       "\n",
       "                                                text  \n",
       "0                               Chelsea Partners ...  \n",
       "1        Liverpool       Investments 6/30/2017 To...  \n",
       "2                                 Newcastle Ventu...  \n",
       "3  4/14/2016 Courtois Investment Group 5 Fulham R...  \n",
       "4          Liverpool         Investments R 1/15/2...  "
      ]
     },
     "execution_count": 55,
     "metadata": {},
     "output_type": "execute_result"
    }
   ],
   "source": [
    "new_df.head()"
   ]
  },
  {
   "cell_type": "code",
   "execution_count": 56,
   "metadata": {},
   "outputs": [],
   "source": [
    "from sklearn.naive_bayes import MultinomialNB\n",
    "from sklearn.feature_extraction.text import CountVectorizer\n",
    "import pandas as pd\n",
    "from collections import Counter\n",
    "from sklearn.model_selection import train_test_split\n",
    "from sklearn.feature_extraction.text import TfidfTransformer"
   ]
  },
  {
   "cell_type": "code",
   "execution_count": 57,
   "metadata": {},
   "outputs": [],
   "source": [
    "text_list = new_df['text'].tolist()\n",
    "count_vect = CountVectorizer()\n",
    "x_train_counts = count_vect.fit_transform(text_list)"
   ]
  },
  {
   "cell_type": "code",
   "execution_count": 58,
   "metadata": {},
   "outputs": [],
   "source": [
    "tfidf_transformer = TfidfTransformer()\n",
    "x_train_tfidf = tfidf_transformer.fit_transform(x_train_counts)"
   ]
  },
  {
   "cell_type": "code",
   "execution_count": 59,
   "metadata": {},
   "outputs": [],
   "source": [
    "varietal_list = new_df['category'].tolist()\n",
    "train_x, test_x, train_y, test_y = train_test_split(x_train_tfidf, varietal_list, test_size=0.3)"
   ]
  },
  {
   "cell_type": "code",
   "execution_count": 60,
   "metadata": {},
   "outputs": [],
   "source": [
    "from sklearn.svm import SVC"
   ]
  },
  {
   "cell_type": "code",
   "execution_count": 61,
   "metadata": {},
   "outputs": [],
   "source": [
    "# clf = MultinomialNB().fit(train_x, train_y)\n",
    "clf = SVC(kernel='linear').fit(train_x, train_y)\n",
    "# clf = SVC(kernel='linear').fit(x_train_tfidf, varietal_list)\n",
    "y_score = clf.predict(test_x)"
   ]
  },
  {
   "cell_type": "code",
   "execution_count": 64,
   "metadata": {},
   "outputs": [
    {
     "data": {
      "text/plain": [
       "0.5180722891566265"
      ]
     },
     "execution_count": 64,
     "metadata": {},
     "output_type": "execute_result"
    }
   ],
   "source": [
    "np.mean(y_score != test_y)"
   ]
  },
  {
   "cell_type": "code",
   "execution_count": 66,
   "metadata": {},
   "outputs": [
    {
     "data": {
      "text/plain": [
       "array([1, 1, 1, 1, 1, 3, 1, 1, 1, 1, 3, 3, 1, 1, 3, 1, 1, 1, 3, 1, 1, 3,\n",
       "       1, 1, 1, 1, 1, 1, 1, 1, 1, 1, 1, 3, 3, 1, 1, 1, 1, 3, 1, 1, 1, 3,\n",
       "       1, 1, 1, 3, 1, 1, 1, 1, 1, 3, 1, 1, 1, 1, 1, 1, 1, 1, 1, 1, 1, 1,\n",
       "       1, 3, 1, 1, 1, 1, 1, 1, 1, 1, 3, 1, 1, 3, 1, 1, 1])"
      ]
     },
     "execution_count": 66,
     "metadata": {},
     "output_type": "execute_result"
    }
   ],
   "source": [
    "y_score"
   ]
  },
  {
   "cell_type": "code",
   "execution_count": null,
   "metadata": {},
   "outputs": [],
   "source": []
  }
 ],
 "metadata": {
  "kernelspec": {
   "display_name": "Python 3",
   "language": "python",
   "name": "python3"
  },
  "language_info": {
   "codemirror_mode": {
    "name": "ipython",
    "version": 3
   },
   "file_extension": ".py",
   "mimetype": "text/x-python",
   "name": "python",
   "nbconvert_exporter": "python",
   "pygments_lexer": "ipython3",
   "version": "3.7.0"
  }
 },
 "nbformat": 4,
 "nbformat_minor": 2
}
